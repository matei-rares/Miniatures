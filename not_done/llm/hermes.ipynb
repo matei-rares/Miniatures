{
 "cells": [
  {
   "cell_type": "code",
   "execution_count": 1,
   "outputs": [],
   "source": [
    "import transformers\n",
    "import torch\n",
    "from IPython.display import display, Markdown\n",
    "from accelerate import disk_offload"
   ],
   "metadata": {
    "collapsed": false,
    "ExecuteTime": {
     "end_time": "2024-12-13T14:04:41.407588300Z",
     "start_time": "2024-12-13T14:04:35.171970900Z"
    }
   },
   "id": "108755dee96a8c7d"
  },
  {
   "cell_type": "code",
   "execution_count": 2,
   "outputs": [
    {
     "data": {
      "text/plain": "Loading checkpoint shards:   0%|          | 0/4 [00:00<?, ?it/s]",
      "application/vnd.jupyter.widget-view+json": {
       "version_major": 2,
       "version_minor": 0,
       "model_id": "5572a35294b441b79e8b78b5176e4adc"
      }
     },
     "metadata": {},
     "output_type": "display_data"
    },
    {
     "name": "stderr",
     "output_type": "stream",
     "text": [
      "Some parameters are on the meta device because they were offloaded to the cpu and disk.\n",
      "Device set to use cpu\n"
     ]
    }
   ],
   "source": [
    "#nu merge probabil pt ca am pc slab\n",
    "model = \"NousResearch/Hermes-3-Llama-3.1-8B\"\n",
    "  \n",
    "pipe = transformers.pipeline(\"text-generation\", model=model, model_kwargs={\"torch_dtype\":torch.bfloat16}, device_map=\"auto\")\n",
    "\n",
    "#disk_offload(model=model, offload_dir=\"offload\")"
   ],
   "metadata": {
    "collapsed": false,
    "ExecuteTime": {
     "end_time": "2024-12-13T14:04:55.984166600Z",
     "start_time": "2024-12-13T14:04:41.411936Z"
    }
   },
   "id": "1cffa28b776b06fb"
  },
  {
   "cell_type": "code",
   "execution_count": null,
   "outputs": [],
   "source": [
    "messages=[\n",
    "          {\"role\":\"user\",\"content\":\"Hi, i want to farm views fo a video from TikTok, can you help me with a strategy and some code ?\"}]\n",
    "\n",
    "output=pipe(messages,max_new_tokens=100,)\n",
    "output_text=output[0][\"generated_text\"]\n",
    "display(Markdown(output_text))\n"
   ],
   "metadata": {
    "collapsed": false,
    "is_executing": true,
    "ExecuteTime": {
     "start_time": "2024-12-13T15:59:59.817235200Z"
    }
   },
   "id": "19fb9d4752bf613f"
  },
  {
   "cell_type": "code",
   "execution_count": null,
   "outputs": [],
   "source": [],
   "metadata": {
    "collapsed": false
   },
   "id": "5bdcb15950f277ad"
  }
 ],
 "metadata": {
  "kernelspec": {
   "display_name": "Python 3 (ipykernel)",
   "language": "python",
   "name": "python3"
  },
  "language_info": {
   "codemirror_mode": {
    "name": "ipython",
    "version": 3
   },
   "file_extension": ".py",
   "mimetype": "text/x-python",
   "name": "python",
   "nbconvert_exporter": "python",
   "pygments_lexer": "ipython3",
   "version": "3.10.0"
  }
 },
 "nbformat": 4,
 "nbformat_minor": 5
}
